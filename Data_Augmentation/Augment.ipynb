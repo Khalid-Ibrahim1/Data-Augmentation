{
 "cells": [
  {
   "cell_type": "code",
   "execution_count": 1,
   "metadata": {},
   "outputs": [],
   "source": [
    "import cv2\n",
    "from keras.preprocessing.image import ImageDataGenerator\n",
    "from tensorflow.keras.utils import array_to_img, img_to_array, load_img"
   ]
  },
  {
   "cell_type": "markdown",
   "metadata": {},
   "source": [
    "### Apply grayscale filter to images"
   ]
  },
  {
   "cell_type": "code",
   "execution_count": 9,
   "metadata": {},
   "outputs": [],
   "source": [
    "for i in range(1,4):\n",
    "    img = cv2.imread(f'Image{i}.jpeg') # read image\n",
    "    gray = cv2.cvtColor(img, cv2.COLOR_BGR2GRAY) # convert to grayscale\n",
    "    cv2.imwrite(f'grayscaled/gray{i}.jpg',gray) # save the grayscale image"
   ]
  },
  {
   "cell_type": "markdown",
   "metadata": {},
   "source": [
    "### Flipping the images"
   ]
  },
  {
   "cell_type": "code",
   "execution_count": 11,
   "metadata": {},
   "outputs": [],
   "source": [
    "for i in range(1,4):\n",
    "    img = cv2.imread(f'Image{i}.jpeg') # read image\n",
    "    img_h = cv2.flip(img, 1) # horizontal flip. 1 for horizontal, 0 for vertical\n",
    "    img_v = cv2.flip(img, 0) # vertical flip.\n",
    "    \n",
    "    cv2.imwrite(f'flipped/flipped_h{i}.jpg',img_h)\n",
    "    cv2.imwrite(f'flipped/flipped_v{i}.jpg',img_v)"
   ]
  },
  {
   "cell_type": "code",
   "execution_count": 3,
   "metadata": {},
   "outputs": [],
   "source": [
    "datagen = ImageDataGenerator(\n",
    "\t\trotation_range = 40,\n",
    "\t\thorizontal_flip = True,\n",
    "\t\tbrightness_range = (0.5, 1.5))\n",
    "img = load_img('image1.jpeg')\n",
    "\n",
    "x = img_to_array(img)\n",
    "# Reshaping the input image\n",
    "x = x.reshape((1, ) + x.shape)\n",
    "i = 0\n",
    "for batch in datagen.flow(x, batch_size = 1,\n",
    "\t\t\t\t\t\tsave_to_dir ='keras_dataGen',\n",
    "\t\t\t\t\t\tsave_prefix ='image', save_format ='jpeg'):\n",
    "\ti += 1\n",
    "\tif i > 3:\n",
    "\t\tbreak"
   ]
  }
 ],
 "metadata": {
  "kernelspec": {
   "display_name": "Python 3",
   "language": "python",
   "name": "python3"
  },
  "language_info": {
   "codemirror_mode": {
    "name": "ipython",
    "version": 3
   },
   "file_extension": ".py",
   "mimetype": "text/x-python",
   "name": "python",
   "nbconvert_exporter": "python",
   "pygments_lexer": "ipython3",
   "version": "3.10.2"
  },
  "orig_nbformat": 4
 },
 "nbformat": 4,
 "nbformat_minor": 2
}
